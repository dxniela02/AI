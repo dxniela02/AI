{
  "nbformat": 4,
  "nbformat_minor": 0,
  "metadata": {
    "colab": {
      "provenance": []
    },
    "kernelspec": {
      "name": "python3",
      "display_name": "Python 3"
    },
    "language_info": {
      "name": "python"
    }
  },
  "cells": [
    {
      "cell_type": "code",
      "execution_count": 1,
      "metadata": {
        "id": "5qXfhHdUzV5T"
      },
      "outputs": [],
      "source": [
        "#A2: Python Exercises.\n",
        "#Karla Daniela Rodríguez Martínez\n",
        "#1911849\n",
        "#N4"
      ]
    },
    {
      "cell_type": "code",
      "source": [
        "#EXCERCISE 1\n",
        "def fsaludo():\n",
        "  question=input('What is your name?')\n",
        "  if question!='Ana'and question!='John' and question!='Peter':\n",
        "    print('Hello '+question+' :)')\n",
        "\n",
        "fsaludo()"
      ],
      "metadata": {
        "colab": {
          "base_uri": "https://localhost:8080/"
        },
        "id": "ghxYTO369FZW",
        "outputId": "e6eea3d3-5fb6-4c81-d4bd-8eb033f28073"
      },
      "execution_count": 3,
      "outputs": [
        {
          "output_type": "stream",
          "name": "stdout",
          "text": [
            "What is your name?Daniela\n",
            "Hello Daniela :)\n"
          ]
        }
      ]
    },
    {
      "cell_type": "code",
      "source": [
        "#EXCERCISE 2\n",
        "def flist(x):\n",
        "  print(x[-1])\n",
        "  print('List reverted')\n",
        "  y=x[-1]\n",
        "  while y>= x[0]:\n",
        "    print(y)\n",
        "    y-=1\n",
        "\n",
        "lista=[0,1,2,3,4,5]\n",
        "flist(lista)"
      ],
      "metadata": {
        "colab": {
          "base_uri": "https://localhost:8080/"
        },
        "id": "JCUagD9b-84b",
        "outputId": "37e5f24f-b88d-4d67-b255-bcd7b4b62f4c"
      },
      "execution_count": 1,
      "outputs": [
        {
          "output_type": "stream",
          "name": "stdout",
          "text": [
            "5\n",
            "List reverted\n",
            "5\n",
            "4\n",
            "3\n",
            "2\n",
            "1\n",
            "0\n"
          ]
        }
      ]
    },
    {
      "cell_type": "code",
      "source": [
        "#EXCERCISE 3\n",
        "def frectangular(a):\n",
        "  s=max(len(b)for b in a)\n",
        "  print('*'*(s+2))\n",
        "  for z in a:\n",
        "    n=s-len(z)\n",
        "    print('*'+z+' '*n+'*')\n",
        "  print('*'*(s+2))  \n",
        "\n",
        "lista=['Hi','I','am','Daniela']\n",
        "frectangular(lista)\n"
      ],
      "metadata": {
        "colab": {
          "base_uri": "https://localhost:8080/"
        },
        "id": "dxdvZWzoCCFB",
        "outputId": "ca90b51e-8ef7-4c1f-f082-77647299595c"
      },
      "execution_count": 2,
      "outputs": [
        {
          "output_type": "stream",
          "name": "stdout",
          "text": [
            "*********\n",
            "*Hi     *\n",
            "*I      *\n",
            "*am     *\n",
            "*Daniela*\n",
            "*********\n"
          ]
        }
      ]
    }
  ]
}